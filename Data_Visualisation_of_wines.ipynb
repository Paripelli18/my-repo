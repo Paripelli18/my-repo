{
  "metadata": {
    "celltoolbar": "Slideshow",
    "kernelspec": {
      "display_name": "Python 3",
      "language": "python",
      "name": "python3"
    },
    "language_info": {
      "name": "python",
      "version": "3.6.5",
      "mimetype": "text/x-python",
      "codemirror_mode": {
        "name": "ipython",
        "version": 3
      },
      "pygments_lexer": "ipython3",
      "nbconvert_exporter": "python",
      "file_extension": ".py"
    },
    "kaggle": {
      "accelerator": "none",
      "dataSources": [
        {
          "sourceId": 8204,
          "sourceType": "datasetVersion",
          "datasetId": 4458
        }
      ],
      "dockerImageVersionId": 3200,
      "isInternetEnabled": false,
      "language": "python",
      "sourceType": "notebook",
      "isGpuEnabled": false
    },
    "colab": {
      "name": "Data Visualisation of wines",
      "provenance": [],
      "include_colab_link": true
    }
  },
  "nbformat_minor": 0,
  "nbformat": 4,
  "cells": [
    {
      "cell_type": "markdown",
      "metadata": {
        "id": "view-in-github",
        "colab_type": "text"
      },
      "source": [
        "<a href=\"https://colab.research.google.com/github/Paripelli18/my-repo/blob/master/Data_Visualisation_of_wines.ipynb\" target=\"_parent\"><img src=\"https://colab.research.google.com/assets/colab-badge.svg\" alt=\"Open In Colab\"/></a>"
      ]
    },
    {
      "source": [
        "\n",
        "# IMPORTANT: RUN THIS CELL IN ORDER TO IMPORT YOUR KAGGLE DATA SOURCES\n",
        "# TO THE CORRECT LOCATION (/kaggle/input) IN YOUR NOTEBOOK,\n",
        "# THEN FEEL FREE TO DELETE THIS CELL.\n",
        "# NOTE: THIS NOTEBOOK ENVIRONMENT DIFFERS FROM KAGGLE'S PYTHON\n",
        "# ENVIRONMENT SO THERE MAY BE MISSING LIBRARIES USED BY YOUR\n",
        "# NOTEBOOK.\n",
        "\n",
        "import os\n",
        "import sys\n",
        "from tempfile import NamedTemporaryFile\n",
        "from urllib.request import urlopen\n",
        "from urllib.parse import unquote, urlparse\n",
        "from urllib.error import HTTPError\n",
        "from zipfile import ZipFile\n",
        "import tarfile\n",
        "import shutil\n",
        "\n",
        "CHUNK_SIZE = 40960\n",
        "DATA_SOURCE_MAPPING = ':https%3A%2F%2Fstorage.googleapis.com%2Fkaggle-data-sets%2F4458%2F8204%2Fbundle%2Farchive.zip%3FX-Goog-Algorithm%3DGOOG4-RSA-SHA256%26X-Goog-Credential%3Dgcp-kaggle-com%2540kaggle-161607.iam.gserviceaccount.com%252F20240704%252Fauto%252Fstorage%252Fgoog4_request%26X-Goog-Date%3D20240704T093342Z%26X-Goog-Expires%3D259200%26X-Goog-SignedHeaders%3Dhost%26X-Goog-Signature%3D803cdf66e6582764100b76440c6428184180a8e197d2116e98cb1323059286ac18513535795da5c40bc48f9f39ec8dba3ff4d4158f888ca6652862f6e12baa5a73fe9b40a2c6d1db769093558657d9b51c2f3e8852cf0aa8ef269fc077d3b1c61bce24150784efaad6177b9bcd2fdf1d4057cf9476926b326b67e8d29973a56a1c23355e38d6ab72bebcca563c1afd8daf5a6d5d473b1a16da8b86b99dbd255c9c7f43be8fe8a34af0cc69a9cdd1d35fe19adc1af88c18954c1edc1004e8a7f9983b29f5fc5f5574232e25a16509ec05b5920605ce572797584baa885aa7fa3b2915c6c0d5e349e6bd7d5cc35b8670b299c022e100022f93b8238919ea967e99'\n",
        "\n",
        "KAGGLE_INPUT_PATH='/kaggle/input'\n",
        "KAGGLE_WORKING_PATH='/kaggle/working'\n",
        "KAGGLE_SYMLINK='kaggle'\n",
        "\n",
        "!umount /kaggle/input/ 2> /dev/null\n",
        "shutil.rmtree('/kaggle/input', ignore_errors=True)\n",
        "os.makedirs(KAGGLE_INPUT_PATH, 0o777, exist_ok=True)\n",
        "os.makedirs(KAGGLE_WORKING_PATH, 0o777, exist_ok=True)\n",
        "\n",
        "try:\n",
        "  os.symlink(KAGGLE_INPUT_PATH, os.path.join(\"..\", 'input'), target_is_directory=True)\n",
        "except FileExistsError:\n",
        "  pass\n",
        "try:\n",
        "  os.symlink(KAGGLE_WORKING_PATH, os.path.join(\"..\", 'working'), target_is_directory=True)\n",
        "except FileExistsError:\n",
        "  pass\n",
        "\n",
        "for data_source_mapping in DATA_SOURCE_MAPPING.split(','):\n",
        "    directory, download_url_encoded = data_source_mapping.split(':')\n",
        "    download_url = unquote(download_url_encoded)\n",
        "    filename = urlparse(download_url).path\n",
        "    destination_path = os.path.join(KAGGLE_INPUT_PATH, directory)\n",
        "    try:\n",
        "        with urlopen(download_url) as fileres, NamedTemporaryFile() as tfile:\n",
        "            total_length = fileres.headers['content-length']\n",
        "            print(f'Downloading {directory}, {total_length} bytes compressed')\n",
        "            dl = 0\n",
        "            data = fileres.read(CHUNK_SIZE)\n",
        "            while len(data) > 0:\n",
        "                dl += len(data)\n",
        "                tfile.write(data)\n",
        "                done = int(50 * dl / int(total_length))\n",
        "                sys.stdout.write(f\"\\r[{'=' * done}{' ' * (50-done)}] {dl} bytes downloaded\")\n",
        "                sys.stdout.flush()\n",
        "                data = fileres.read(CHUNK_SIZE)\n",
        "            if filename.endswith('.zip'):\n",
        "              with ZipFile(tfile) as zfile:\n",
        "                zfile.extractall(destination_path)\n",
        "            else:\n",
        "              with tarfile.open(tfile.name) as tarfile:\n",
        "                tarfile.extractall(destination_path)\n",
        "            print(f'\\nDownloaded and uncompressed: {directory}')\n",
        "    except HTTPError as e:\n",
        "        print(f'Failed to load (likely expired) {download_url} to path {destination_path}')\n",
        "        continue\n",
        "    except OSError as e:\n",
        "        print(f'Failed to load {download_url} to path {destination_path}')\n",
        "        continue\n",
        "\n",
        "print('Data source import complete.')\n"
      ],
      "metadata": {
        "id": "kaAJEL_RF8lF"
      },
      "cell_type": "code",
      "outputs": [],
      "execution_count": null
    },
    {
      "cell_type": "code",
      "source": [],
      "metadata": {
        "id": "bY5yk7ONF8lK"
      },
      "execution_count": null,
      "outputs": []
    },
    {
      "cell_type": "code",
      "source": [],
      "metadata": {
        "id": "d3cNEs27F8lK"
      },
      "execution_count": null,
      "outputs": []
    },
    {
      "cell_type": "code",
      "source": [
        "import numpy as np\n",
        "import pandas as pd\n",
        "import matplotlib.pyplot as plt\n",
        "import seaborn as sns\n",
        "from bokeh.plotting import figure, output_file, show\n",
        "from bokeh.layouts import row\n",
        "from bokeh.io import output_notebook\n",
        "import statsmodels.api as sm\n",
        "import statsmodels.formula.api as smf\n",
        "from patsy import dmatrices\n",
        "import sklearn\n",
        "import sklearn.metrics\n",
        "from sklearn import ensemble\n",
        "from sklearn import linear_model\n",
        "import warnings\n",
        "warnings.filterwarnings('ignore')\n",
        "output_notebook()\n",
        "%matplotlib inline"
      ],
      "metadata": {
        "_uuid": "29b4c403fea598a9e89097228752ad184034b35d",
        "execution": {
          "iopub.status.busy": "2024-07-04T08:09:13.305261Z",
          "iopub.execute_input": "2024-07-04T08:09:13.305642Z",
          "iopub.status.idle": "2024-07-04T08:09:13.338347Z",
          "shell.execute_reply.started": "2024-07-04T08:09:13.305572Z",
          "shell.execute_reply": "2024-07-04T08:09:13.337567Z"
        },
        "trusted": true,
        "id": "Ey1pY_eqF8lK"
      },
      "execution_count": null,
      "outputs": []
    },
    {
      "cell_type": "code",
      "source": [
        "url = \"../input/winequality-red.csv\"\n",
        "wine = pd.read_csv(url)"
      ],
      "metadata": {
        "_uuid": "1b2b1ea1ce4f272d6ab4f0f9e3e57f3788475962",
        "_kg_hide-output": true,
        "execution": {
          "iopub.status.busy": "2024-07-04T08:09:13.339408Z",
          "iopub.execute_input": "2024-07-04T08:09:13.339725Z",
          "iopub.status.idle": "2024-07-04T08:09:13.353459Z",
          "shell.execute_reply.started": "2024-07-04T08:09:13.339663Z",
          "shell.execute_reply": "2024-07-04T08:09:13.352662Z"
        },
        "trusted": true,
        "id": "h7-Z2qajF8lL"
      },
      "execution_count": null,
      "outputs": []
    },
    {
      "cell_type": "markdown",
      "source": [
        "- The *head(..)* function of *pandas* helps in viewing the preview of the dataset for n-number of rows"
      ],
      "metadata": {
        "_uuid": "3683c0ef13a25b7630160081f02e56d4001faa7e",
        "id": "k_VaL-RJF8lL"
      }
    },
    {
      "cell_type": "code",
      "source": [
        "wine.head(n=5)"
      ],
      "metadata": {
        "_uuid": "474d145074b634ac19ad5c9d443e3c6d56b16852",
        "execution": {
          "iopub.status.busy": "2024-07-04T08:09:13.354618Z",
          "iopub.execute_input": "2024-07-04T08:09:13.354991Z",
          "iopub.status.idle": "2024-07-04T08:09:13.407385Z",
          "shell.execute_reply.started": "2024-07-04T08:09:13.354918Z",
          "shell.execute_reply": "2024-07-04T08:09:13.406454Z"
        },
        "trusted": true,
        "id": "XG74BC_QF8lM"
      },
      "execution_count": null,
      "outputs": []
    },
    {
      "cell_type": "markdown",
      "source": [
        "### Exploring the <span style=\"color:red\">Red Wine</span> dataset:"
      ],
      "metadata": {
        "_uuid": "b84689626306e030be1710f8c541b97ccf5a99a5",
        "id": "xCnRAREvF8lN"
      }
    },
    {
      "cell_type": "code",
      "source": [
        "print(\"Shape of Red Wine dataset: {s}\".format(s = wine.shape))\n",
        "print(\"Column headers/names: {s}\".format(s = list(wine)))"
      ],
      "metadata": {
        "_uuid": "40b2d1d81c5a648bba79bf009b7e4ecfd4da1cce",
        "execution": {
          "iopub.status.busy": "2024-07-04T08:09:13.408642Z",
          "iopub.execute_input": "2024-07-04T08:09:13.408986Z",
          "iopub.status.idle": "2024-07-04T08:09:13.414589Z",
          "shell.execute_reply.started": "2024-07-04T08:09:13.408928Z",
          "shell.execute_reply": "2024-07-04T08:09:13.41382Z"
        },
        "trusted": true,
        "id": "Dy_C77OIF8lN"
      },
      "execution_count": null,
      "outputs": []
    },
    {
      "cell_type": "markdown",
      "source": [
        "- From above lines we can learn that there are total _1599 observations with 12 different feature variables/attributes_ present in the Red Wine dataset."
      ],
      "metadata": {
        "_uuid": "5d239e953d975b4675472bb72ae50180b3901ae6",
        "id": "mbUURKbuF8lN"
      }
    },
    {
      "cell_type": "code",
      "source": [
        "# Now, let's check the information about different variables/column from the dataset:\n",
        "wine.info()"
      ],
      "metadata": {
        "_uuid": "57cdef2dac81693097d7f462c34a9e96f582522a",
        "execution": {
          "iopub.status.busy": "2024-07-04T08:09:13.415747Z",
          "iopub.execute_input": "2024-07-04T08:09:13.416055Z",
          "iopub.status.idle": "2024-07-04T08:09:13.4302Z",
          "shell.execute_reply.started": "2024-07-04T08:09:13.416005Z",
          "shell.execute_reply": "2024-07-04T08:09:13.429355Z"
        },
        "trusted": true,
        "id": "6Ih_9RecF8lO"
      },
      "execution_count": null,
      "outputs": []
    },
    {
      "cell_type": "markdown",
      "source": [
        "- We can see that, all 12 columns are of numeric data types. Out of 12 variables, 11 are predictor variables and last one _'quality'_ is an response variable."
      ],
      "metadata": {
        "_uuid": "99ede6a5a1914166ad767b3234814f6af82c5da9",
        "id": "fFPU0BBlF8lO"
      }
    },
    {
      "cell_type": "code",
      "source": [
        "# Let's look at the summary of the dataset,\n",
        "wine.describe()"
      ],
      "metadata": {
        "_uuid": "8dfc935e844f4edecb0193e579206aaaf45bc925",
        "execution": {
          "iopub.status.busy": "2024-07-04T08:09:13.431437Z",
          "iopub.execute_input": "2024-07-04T08:09:13.431699Z",
          "iopub.status.idle": "2024-07-04T08:09:13.500922Z",
          "shell.execute_reply.started": "2024-07-04T08:09:13.431643Z",
          "shell.execute_reply": "2024-07-04T08:09:13.499969Z"
        },
        "trusted": true,
        "id": "i5wtPfaZF8lO"
      },
      "execution_count": null,
      "outputs": []
    },
    {
      "cell_type": "markdown",
      "source": [
        "- The summary of Red Wine dataset looks perfect, there is no visible abnormality in data (invalid/negative values).\n",
        "- All the data seems to be in range (with different scales, which needs standardization)."
      ],
      "metadata": {
        "_uuid": "4e4f80368902450474e27ad48ce925907598f594",
        "id": "HUErvAOoF8lO"
      }
    },
    {
      "cell_type": "markdown",
      "source": [
        "- Let's look for the missing values in red wine dataset:"
      ],
      "metadata": {
        "_uuid": "7fd86bb55eb9f18bf019a2c8aad5e2f946925bff",
        "id": "EY1wMLvAF8lP"
      }
    },
    {
      "cell_type": "code",
      "source": [
        "wine.isnull().sum()"
      ],
      "metadata": {
        "_uuid": "1e4de7467a68172dd5d4bac234f404186c748e8a",
        "execution": {
          "iopub.status.busy": "2024-07-04T08:09:13.502218Z",
          "iopub.execute_input": "2024-07-04T08:09:13.502494Z",
          "iopub.status.idle": "2024-07-04T08:09:13.510137Z",
          "shell.execute_reply.started": "2024-07-04T08:09:13.502441Z",
          "shell.execute_reply": "2024-07-04T08:09:13.509312Z"
        },
        "trusted": true,
        "id": "JAO8fPmiF8lP"
      },
      "execution_count": null,
      "outputs": []
    },
    {
      "cell_type": "markdown",
      "source": [
        "- The red wine dataset doesn't have any missing values/rows/cells for any of the variables/feature.\n",
        "- It seems that data has been collected neatly or prior cleaning has been performed before publishing the dataset."
      ],
      "metadata": {
        "_uuid": "f504589a4a1f0073be0e80ed7ac9cbb398a703f0",
        "id": "o7TtvGrhF8lP"
      }
    },
    {
      "cell_type": "markdown",
      "source": [
        "- Let's rename the modify the dataset headers/column names by removing the _'blank spaces'_ from it."
      ],
      "metadata": {
        "_uuid": "d45f45463e486dad2cc61d0a5417b472d8fc5b3f",
        "id": "ZCSLacmNF8lP"
      }
    },
    {
      "cell_type": "code",
      "source": [
        "wine.rename(columns={'fixed acidity': 'fixed_acidity','citric acid':'citric_acid','volatile acidity':'volatile_acidity','residual sugar':'residual_sugar','free sulfur dioxide':'free_sulfur_dioxide','total sulfur dioxide':'total_sulfur_dioxide'}, inplace=True)\n",
        "wine.head(n=5)"
      ],
      "metadata": {
        "_uuid": "3c4be07af25e31b4b4e725b15362349f36e71be1",
        "execution": {
          "iopub.status.busy": "2024-07-04T08:09:13.51136Z",
          "iopub.execute_input": "2024-07-04T08:09:13.511647Z",
          "iopub.status.idle": "2024-07-04T08:09:13.545744Z",
          "shell.execute_reply.started": "2024-07-04T08:09:13.51159Z",
          "shell.execute_reply": "2024-07-04T08:09:13.544903Z"
        },
        "trusted": true,
        "id": "k4wUTfBUF8lP"
      },
      "execution_count": null,
      "outputs": []
    },
    {
      "cell_type": "markdown",
      "source": [
        "#### Learning more about the target/response variable/feature:\n",
        "- Let's check how many unique values does the target feature _'quality'_ has?"
      ],
      "metadata": {
        "_uuid": "5e7c1e927a6dfaf5f978911c3437cf6a8c38c175",
        "id": "aDaRDMpHF8lP"
      }
    },
    {
      "cell_type": "code",
      "source": [
        "wine['quality'].unique()"
      ],
      "metadata": {
        "_uuid": "1a10f35e6042be0343df37bea40f4480127c5518",
        "execution": {
          "iopub.status.busy": "2024-07-04T08:09:13.546986Z",
          "iopub.execute_input": "2024-07-04T08:09:13.547297Z",
          "iopub.status.idle": "2024-07-04T08:09:13.557883Z",
          "shell.execute_reply.started": "2024-07-04T08:09:13.547235Z",
          "shell.execute_reply": "2024-07-04T08:09:13.557046Z"
        },
        "trusted": true,
        "id": "E7PRA4Y0F8lP"
      },
      "execution_count": null,
      "outputs": []
    },
    {
      "cell_type": "markdown",
      "source": [
        "- And how data is distributed among those values?"
      ],
      "metadata": {
        "_uuid": "63c9874e4febb30c505677969f2d6e35d2c3324d",
        "id": "DY8y_dlhF8lP"
      }
    },
    {
      "cell_type": "code",
      "source": [
        "wine.quality.value_counts().sort_index()"
      ],
      "metadata": {
        "_uuid": "3b41a284b71545b6230a487e857cc1eca0eed3c9",
        "execution": {
          "iopub.status.busy": "2024-07-04T08:09:13.558997Z",
          "iopub.execute_input": "2024-07-04T08:09:13.559269Z",
          "iopub.status.idle": "2024-07-04T08:09:13.571464Z",
          "shell.execute_reply.started": "2024-07-04T08:09:13.559217Z",
          "shell.execute_reply": "2024-07-04T08:09:13.570547Z"
        },
        "trusted": true,
        "id": "mgeCcX3BF8lP"
      },
      "execution_count": null,
      "outputs": []
    },
    {
      "cell_type": "code",
      "source": [
        "sns.countplot(x='quality', data=wine)"
      ],
      "metadata": {
        "_uuid": "945f9dc38ef05ac2276bfc816bd3d7a672978870",
        "execution": {
          "iopub.status.busy": "2024-07-04T08:09:13.572955Z",
          "iopub.execute_input": "2024-07-04T08:09:13.573322Z",
          "iopub.status.idle": "2024-07-04T08:09:13.764984Z",
          "shell.execute_reply.started": "2024-07-04T08:09:13.573249Z",
          "shell.execute_reply": "2024-07-04T08:09:13.76398Z"
        },
        "trusted": true,
        "id": "FemPwbKRF8lQ"
      },
      "execution_count": null,
      "outputs": []
    },
    {
      "cell_type": "markdown",
      "source": [
        "- The above distribution shows the range for response variable (_quality_) is between 3 to 8."
      ],
      "metadata": {
        "_uuid": "acc22c6469f19f5595cc174d35dfa97c4a73e98f",
        "id": "NoiaWnA1F8lQ"
      }
    },
    {
      "cell_type": "markdown",
      "source": [
        "- Let's create a new discreet, categorical response variable/feature ('_rating_') from existing '_quality_' variable.  \n",
        "_i.e._ bad: 1-4  \n",
        "&nbsp;&nbsp;&nbsp;&nbsp;&nbsp;&nbsp;average: 5-6  \n",
        "&nbsp;&nbsp;&nbsp;&nbsp;&nbsp;&nbsp;good: 7-10"
      ],
      "metadata": {
        "_uuid": "82a839eb2cb9eb4997a180841adb7c4e7249c803",
        "id": "15J6pi2qF8lQ"
      }
    },
    {
      "cell_type": "code",
      "source": [
        "conditions = [\n",
        "    (wine['quality'] >= 7),\n",
        "    (wine['quality'] <= 4)\n",
        "]\n",
        "rating = ['good', 'bad']\n",
        "wine['rating'] = np.select(conditions, rating, default='average')\n",
        "wine.rating.value_counts()"
      ],
      "metadata": {
        "_uuid": "989cf8f6d6c039fd96b6d8050ba7859697180284",
        "execution": {
          "iopub.status.busy": "2024-07-04T08:09:13.766424Z",
          "iopub.execute_input": "2024-07-04T08:09:13.766775Z",
          "iopub.status.idle": "2024-07-04T08:09:13.779876Z",
          "shell.execute_reply.started": "2024-07-04T08:09:13.766713Z",
          "shell.execute_reply": "2024-07-04T08:09:13.778854Z"
        },
        "trusted": true,
        "id": "-d-IQOiWF8lQ"
      },
      "execution_count": null,
      "outputs": []
    },
    {
      "cell_type": "code",
      "source": [
        "wine.groupby('rating').mean()"
      ],
      "metadata": {
        "_uuid": "d9d78d254cd79690b668a249aa1369cd1a8d61a9",
        "execution": {
          "iopub.status.busy": "2024-07-04T08:09:13.781231Z",
          "iopub.execute_input": "2024-07-04T08:09:13.781514Z",
          "iopub.status.idle": "2024-07-04T08:09:13.829639Z",
          "shell.execute_reply.started": "2024-07-04T08:09:13.781456Z",
          "shell.execute_reply": "2024-07-04T08:09:13.82884Z"
        },
        "trusted": true,
        "id": "Q_Z4g43EF8lQ"
      },
      "execution_count": null,
      "outputs": []
    },
    {
      "cell_type": "markdown",
      "source": [
        "#### Corelation between features/variables:\n",
        "- Let's check the corelation between the target variable and predictor variables,"
      ],
      "metadata": {
        "_uuid": "592cec19c15fae3138c70d5d2ef0bc95d27a7112",
        "id": "mxJT7SWbF8lQ"
      }
    },
    {
      "cell_type": "code",
      "source": [
        "correlation = wine.corr()\n",
        "plt.figure(figsize=(14, 8))\n",
        "sns.heatmap(correlation, annot=True, linewidths=0, vmin=-1, cmap=\"RdBu_r\")"
      ],
      "metadata": {
        "_uuid": "58ae5acf3e7266b526ab04f3e6d515e7ca9774f9",
        "execution": {
          "iopub.status.busy": "2024-07-04T08:09:13.830753Z",
          "iopub.execute_input": "2024-07-04T08:09:13.83107Z",
          "iopub.status.idle": "2024-07-04T08:09:14.555835Z",
          "shell.execute_reply.started": "2024-07-04T08:09:13.831017Z",
          "shell.execute_reply": "2024-07-04T08:09:14.554726Z"
        },
        "trusted": true,
        "id": "dlJb3ciGF8lQ"
      },
      "execution_count": null,
      "outputs": []
    },
    {
      "cell_type": "code",
      "source": [
        "correlation['quality'].sort_values(ascending=False)"
      ],
      "metadata": {
        "_uuid": "7888f75218624a63eed71ee2bd19c29c1f34d2b5",
        "execution": {
          "iopub.status.busy": "2024-07-04T08:09:14.557727Z",
          "iopub.execute_input": "2024-07-04T08:09:14.558139Z",
          "iopub.status.idle": "2024-07-04T08:09:14.567945Z",
          "shell.execute_reply.started": "2024-07-04T08:09:14.558066Z",
          "shell.execute_reply": "2024-07-04T08:09:14.567137Z"
        },
        "trusted": true,
        "id": "0jofOapxF8lQ"
      },
      "execution_count": null,
      "outputs": []
    },
    {
      "cell_type": "markdown",
      "source": [
        "- We can observe that, the *'alcohol, sulphates, citric_acid & fixed_acidity'* have maximum corelation with response variable '*quality*'.\n",
        "- This means that, they need to be further analysed for detailed pattern and corelation exploration. Hence, we will use only these 4 variables in our future analysis."
      ],
      "metadata": {
        "_uuid": "7eca10b6aeee4530aa34e53c8e7817bbce73058a",
        "id": "vF5QHFxaF8lQ"
      }
    },
    {
      "cell_type": "markdown",
      "source": [
        "#### Analysis of alcohol percentage with wine quality:"
      ],
      "metadata": {
        "_uuid": "ead3c4a28f7b3e88fc2ba7c8d92ae3ec342f1c6d",
        "id": "6MS19RaGF8lQ"
      }
    },
    {
      "cell_type": "code",
      "source": [
        "bx = sns.boxplot(x=\"quality\", y='alcohol', data = wine)\n",
        "bx.set(xlabel='Wine Quality', ylabel='Alcohol Percent', title='Alcohol percent in different wine quality types')"
      ],
      "metadata": {
        "_uuid": "7576ccef669debfbf12ca8da08a9189704dc98f1",
        "execution": {
          "iopub.status.busy": "2024-07-04T08:09:14.569098Z",
          "iopub.execute_input": "2024-07-04T08:09:14.569382Z",
          "iopub.status.idle": "2024-07-04T08:09:14.768809Z",
          "shell.execute_reply.started": "2024-07-04T08:09:14.569329Z",
          "shell.execute_reply": "2024-07-04T08:09:14.767987Z"
        },
        "trusted": true,
        "id": "GWVEyp3eF8lQ"
      },
      "execution_count": null,
      "outputs": []
    },
    {
      "cell_type": "markdown",
      "source": [
        "#### Analysis of sulphates & wine ratings:"
      ],
      "metadata": {
        "_uuid": "c491c4c0476541ae40077bf277c8df7d5c0d2ccf",
        "id": "w16tu5NxF8lR"
      }
    },
    {
      "cell_type": "code",
      "source": [
        "bx = sns.boxplot(x=\"rating\", y='sulphates', data = wine)\n",
        "bx.set(xlabel='Wine Ratings', ylabel='Sulphates', title='Sulphates in different types of Wine ratings')"
      ],
      "metadata": {
        "_uuid": "7bc6ef798e4fbafe196f1168527e18b12c51c967",
        "execution": {
          "iopub.status.busy": "2024-07-04T08:09:14.769987Z",
          "iopub.execute_input": "2024-07-04T08:09:14.770257Z",
          "iopub.status.idle": "2024-07-04T08:09:14.935575Z",
          "shell.execute_reply.started": "2024-07-04T08:09:14.770213Z",
          "shell.execute_reply": "2024-07-04T08:09:14.934822Z"
        },
        "trusted": true,
        "id": "8gGl5t-RF8lR"
      },
      "execution_count": null,
      "outputs": []
    },
    {
      "cell_type": "markdown",
      "source": [
        "#### Analysis of Citric Acid & wine ratings:"
      ],
      "metadata": {
        "_uuid": "02d5a2d530eff7105c9eb4767df1fbb670f9573f",
        "id": "nzTn858EF8lR"
      }
    },
    {
      "cell_type": "code",
      "source": [
        "bx = sns.violinplot(x=\"rating\", y='citric_acid', data = wine)\n",
        "bx.set(xlabel='Wine Ratings', ylabel='Citric Acid', title='Xitric_acid in different types of Wine ratings')"
      ],
      "metadata": {
        "_uuid": "a24efe33486162ebbecfefb639b3e8d7c00d1a87",
        "execution": {
          "iopub.status.busy": "2024-07-04T08:09:14.936759Z",
          "iopub.execute_input": "2024-07-04T08:09:14.937069Z",
          "iopub.status.idle": "2024-07-04T08:09:15.11755Z",
          "shell.execute_reply.started": "2024-07-04T08:09:14.937021Z",
          "shell.execute_reply": "2024-07-04T08:09:15.116719Z"
        },
        "trusted": true,
        "id": "lMvlPZS9F8lR"
      },
      "execution_count": null,
      "outputs": []
    },
    {
      "cell_type": "markdown",
      "source": [
        "#### Analysis of fixed acidity & wine ratings:"
      ],
      "metadata": {
        "_uuid": "c07f16c6389d9847479f526b8263a5e218301fa6",
        "id": "aMMQJ-smF8lR"
      }
    },
    {
      "cell_type": "code",
      "source": [
        "bx = sns.boxplot(x=\"rating\", y='fixed_acidity', data = wine)\n",
        "bx.set(xlabel='Wine Ratings', ylabel='Fixed Acidity', title='Fixed Acidity in different types of Wine ratings')"
      ],
      "metadata": {
        "_uuid": "7f3b04d9323a4c845630c00c4eb323ee6aeb0329",
        "execution": {
          "iopub.status.busy": "2024-07-04T08:09:15.11895Z",
          "iopub.execute_input": "2024-07-04T08:09:15.119277Z",
          "iopub.status.idle": "2024-07-04T08:09:15.280009Z",
          "shell.execute_reply.started": "2024-07-04T08:09:15.119222Z",
          "shell.execute_reply": "2024-07-04T08:09:15.27908Z"
        },
        "trusted": true,
        "id": "0wid2TEnF8lX"
      },
      "execution_count": null,
      "outputs": []
    },
    {
      "cell_type": "markdown",
      "source": [
        "#### Analysis of pH & wine ratings:"
      ],
      "metadata": {
        "_uuid": "208f78df738a0a4eac38be500752bde86981cd59",
        "id": "t7jmtS9vF8lX"
      }
    },
    {
      "cell_type": "code",
      "source": [
        "bx = sns.swarmplot(x=\"rating\", y=\"pH\", data = wine);\n",
        "bx.set(xlabel='Wine Ratings', ylabel='pH', title='pH in different types of Wine ratings')"
      ],
      "metadata": {
        "_uuid": "d270ce6e4c5d6d5bbcf9fdc05ca029957ced065a",
        "execution": {
          "iopub.status.busy": "2024-07-04T08:09:15.281585Z",
          "iopub.execute_input": "2024-07-04T08:09:15.281977Z",
          "iopub.status.idle": "2024-07-04T08:09:18.479314Z",
          "shell.execute_reply.started": "2024-07-04T08:09:15.281908Z",
          "shell.execute_reply": "2024-07-04T08:09:18.47853Z"
        },
        "trusted": true,
        "id": "G-QM1mWKF8lX"
      },
      "execution_count": null,
      "outputs": []
    },
    {
      "cell_type": "markdown",
      "source": [
        "### Linear Regression:\n",
        "- Below graphs for different quality ratings shows a linear regression between residual_sugar & alcohol in red wine,"
      ],
      "metadata": {
        "_uuid": "22147d15d5b574687afe0cfd13b34b046c1ec557",
        "id": "HyQ6cT65F8lY"
      }
    },
    {
      "cell_type": "code",
      "source": [
        "sns.lmplot(x = \"alcohol\", y = \"residual_sugar\", col = \"rating\", data = wine)"
      ],
      "metadata": {
        "_uuid": "2c6e1473a1f71224a6aac6ab5b79408b359521f0",
        "execution": {
          "iopub.status.busy": "2024-07-04T08:09:18.4805Z",
          "iopub.execute_input": "2024-07-04T08:09:18.480783Z",
          "iopub.status.idle": "2024-07-04T08:09:19.305332Z",
          "shell.execute_reply.started": "2024-07-04T08:09:18.48073Z",
          "shell.execute_reply": "2024-07-04T08:09:19.304386Z"
        },
        "trusted": true,
        "id": "aLzoYZ3hF8lY"
      },
      "execution_count": null,
      "outputs": []
    },
    {
      "cell_type": "markdown",
      "source": [
        "- The linear regression plots above for different wine quality ratings (bad, average & good) shows the regression between alcohol and residual sugar content of the red wine.  \n",
        "- We can observe from the trendline that, for good and average wine types the residual sugar content remains almost constant irrespective of alcohol content value. Whereas for bad quality wine, the residual sugar content increases gradually with the increase in alcohol content.  \n",
        "- This analysis can help in manufacturing the good quality wine with continuous monitoring and contrilling the alcohol and residual sugar content of the red wine."
      ],
      "metadata": {
        "_uuid": "c687f72b4ab6aa962e8efb5ba9dadf8d208c1465",
        "id": "0qrt3CteF8lY"
      }
    },
    {
      "cell_type": "code",
      "source": [
        "y,X = dmatrices('quality ~ alcohol', data=wine, return_type='dataframe')\n",
        "print(\"X:\", type(X))\n",
        "print(X.columns)\n",
        "model=smf.OLS(y, X)\n",
        "result=model.fit()\n",
        "result.summary()"
      ],
      "metadata": {
        "_uuid": "a8177aa896cf836648b39b1d5e15c709d3945d06",
        "execution": {
          "iopub.status.busy": "2024-07-04T08:09:19.306834Z",
          "iopub.execute_input": "2024-07-04T08:09:19.307169Z",
          "iopub.status.idle": "2024-07-04T08:09:19.353821Z",
          "shell.execute_reply.started": "2024-07-04T08:09:19.307111Z",
          "shell.execute_reply": "2024-07-04T08:09:19.352992Z"
        },
        "trusted": true,
        "id": "BmPJUIsbF8lY"
      },
      "execution_count": null,
      "outputs": []
    },
    {
      "cell_type": "code",
      "source": [
        "model = smf.OLS.from_formula('quality ~ alcohol', data = wine)\n",
        "results = model.fit()\n",
        "print(results.params)"
      ],
      "metadata": {
        "_uuid": "b6fe9ee60e341c7a62b40240883cc5004c0c4aee",
        "execution": {
          "iopub.status.busy": "2024-07-04T08:09:19.355269Z",
          "iopub.execute_input": "2024-07-04T08:09:19.355622Z",
          "iopub.status.idle": "2024-07-04T08:09:19.370581Z",
          "shell.execute_reply.started": "2024-07-04T08:09:19.355552Z",
          "shell.execute_reply": "2024-07-04T08:09:19.36977Z"
        },
        "trusted": true,
        "id": "3S7eKffiF8lY"
      },
      "execution_count": null,
      "outputs": []
    },
    {
      "cell_type": "markdown",
      "source": [
        "- The above wine quality vs alcohol content regression model's result shows that, the minimum value for quality is 1.87 and there will be increment by single unit for wine quality for every change of 0.360842 alcohol units."
      ],
      "metadata": {
        "_uuid": "f26ce7a8695d457d7e4f2333e630b4cfa12b26f1",
        "id": "P7jDPlPCF8lY"
      }
    },
    {
      "cell_type": "markdown",
      "source": [
        "### Classification\n",
        "#### Classification using Statsmodel:\n",
        "- We will use statsmodel for this logistic regression analysis of predicting good wine quality (>4).\n",
        "- Let's create a new categorical variable/column (rate_code) with two possible values (good = 1 & bad = 0)."
      ],
      "metadata": {
        "_uuid": "da5abba90e0dc841b465c6453fb58f5b72d0c482",
        "id": "UvrwVdA3F8lY"
      }
    },
    {
      "cell_type": "code",
      "source": [
        "wine['rate_code'] = (wine['quality'] > 4).astype(np.float32)"
      ],
      "metadata": {
        "_uuid": "447de045b8627c9b46f9da99198fdf6bea6aae98",
        "execution": {
          "iopub.status.busy": "2024-07-04T08:09:19.371877Z",
          "iopub.execute_input": "2024-07-04T08:09:19.37221Z",
          "iopub.status.idle": "2024-07-04T08:09:19.377904Z",
          "shell.execute_reply.started": "2024-07-04T08:09:19.372155Z",
          "shell.execute_reply": "2024-07-04T08:09:19.377122Z"
        },
        "trusted": true,
        "id": "jGaw_T4hF8lY"
      },
      "execution_count": null,
      "outputs": []
    },
    {
      "cell_type": "code",
      "source": [
        "y, X = dmatrices('rate_code ~ alcohol', data = wine)\n",
        "sns.distplot(X[y[:,0] > 0, 1])\n",
        "sns.distplot(X[y[:,0] == 0, 1])"
      ],
      "metadata": {
        "_uuid": "03b57dd1d604dba53d67f551eac4ed842e4ca207",
        "execution": {
          "iopub.status.busy": "2024-07-04T08:09:19.379223Z",
          "iopub.execute_input": "2024-07-04T08:09:19.379523Z",
          "iopub.status.idle": "2024-07-04T08:09:19.621413Z",
          "shell.execute_reply.started": "2024-07-04T08:09:19.379471Z",
          "shell.execute_reply": "2024-07-04T08:09:19.620603Z"
        },
        "trusted": true,
        "id": "3KMWUzRjF8lZ"
      },
      "execution_count": null,
      "outputs": []
    },
    {
      "cell_type": "markdown",
      "source": [
        "- The above plot shows the higher probability for red wine quality will be good if alcohol percentage is more than equal to 12, whereas the same probability reduces as alcohol percentage decreases."
      ],
      "metadata": {
        "_uuid": "9ad0647cd07661585eca8627eb57da482932664e",
        "id": "5T89xwqfF8lZ"
      }
    },
    {
      "cell_type": "code",
      "source": [
        "model = smf.Logit(y, X)\n",
        "result = model.fit()\n",
        "result.summary2()"
      ],
      "metadata": {
        "_uuid": "b051eac55af67f8788a6a88d77b7cbe4e068db3a",
        "execution": {
          "iopub.status.busy": "2024-07-04T08:09:19.622643Z",
          "iopub.execute_input": "2024-07-04T08:09:19.622934Z",
          "iopub.status.idle": "2024-07-04T08:09:19.679776Z",
          "shell.execute_reply.started": "2024-07-04T08:09:19.622884Z",
          "shell.execute_reply": "2024-07-04T08:09:19.678967Z"
        },
        "trusted": true,
        "id": "uiV91br1F8lZ"
      },
      "execution_count": null,
      "outputs": []
    },
    {
      "cell_type": "code",
      "source": [
        "yhat = result.predict(X)\n",
        "sns.distplot(yhat[y[:,0] > 0])\n",
        "sns.distplot(yhat[y[:,0] == 0])"
      ],
      "metadata": {
        "_uuid": "d52685ad1889ddc67025d622fafcad3f63cc8765",
        "execution": {
          "iopub.status.busy": "2024-07-04T08:09:19.681393Z",
          "iopub.execute_input": "2024-07-04T08:09:19.681748Z",
          "iopub.status.idle": "2024-07-04T08:09:19.867123Z",
          "shell.execute_reply.started": "2024-07-04T08:09:19.681682Z",
          "shell.execute_reply": "2024-07-04T08:09:19.866063Z"
        },
        "trusted": true,
        "id": "SzdYK8J2F8lZ"
      },
      "execution_count": null,
      "outputs": []
    },
    {
      "cell_type": "code",
      "source": [
        "yhat = result.predict(X) > 0.955\n",
        "print(sklearn.metrics.classification_report(y, yhat))"
      ],
      "metadata": {
        "_uuid": "862241b8aa06c88d50f5d51f031aad4f418f4042",
        "execution": {
          "iopub.status.busy": "2024-07-04T08:09:19.868727Z",
          "iopub.execute_input": "2024-07-04T08:09:19.869135Z",
          "iopub.status.idle": "2024-07-04T08:09:19.87836Z",
          "shell.execute_reply.started": "2024-07-04T08:09:19.869061Z",
          "shell.execute_reply": "2024-07-04T08:09:19.877505Z"
        },
        "trusted": true,
        "id": "1tlb-5FWF8lZ"
      },
      "execution_count": null,
      "outputs": []
    },
    {
      "cell_type": "markdown",
      "source": [
        "- The above distribution plot displays the overlapped outcomes for the good and bad quality plots of the red wine.\n",
        "- We can observe that the precision for the good wine prediction is almost 96% accurate, where as for bad wine its only 4%, which is not good. But overall there is 92% average precision in wine quality rate prediction."
      ],
      "metadata": {
        "_uuid": "1f5db8ae6dee227b4e743d7148e220a8ca9870de",
        "id": "B-6wMZFIF8lZ"
      }
    },
    {
      "cell_type": "markdown",
      "source": [
        "#### Classification using Sklearn's LogisticRegression:"
      ],
      "metadata": {
        "_uuid": "b342cd22b1f2aa3cc5791238854abde59630fee6",
        "id": "HLeHp2UZF8lZ"
      }
    },
    {
      "cell_type": "code",
      "source": [
        "model = sklearn.linear_model.LogisticRegression()\n",
        "y,X = dmatrices('rate_code ~ alcohol + sulphates + citric_acid + fixed_acidity', data = wine)\n",
        "model.fit(X, y)\n",
        "yhat = model.predict(X)\n",
        "print(sklearn.metrics.classification_report(y, yhat))"
      ],
      "metadata": {
        "_uuid": "689d9dc0b1089053a1546fdda83268e3ecbc8269",
        "execution": {
          "iopub.status.busy": "2024-07-04T08:09:19.879717Z",
          "iopub.execute_input": "2024-07-04T08:09:19.880063Z",
          "iopub.status.idle": "2024-07-04T08:09:19.907362Z",
          "shell.execute_reply.started": "2024-07-04T08:09:19.880004Z",
          "shell.execute_reply": "2024-07-04T08:09:19.906545Z"
        },
        "trusted": true,
        "id": "UTNxJkSqF8la"
      },
      "execution_count": null,
      "outputs": []
    },
    {
      "cell_type": "markdown",
      "source": [
        "- The accuracy matrix for sklearn's linear regression model for red wine quality prediction shows the overall 92% precision which is similar to previous statsmodel's average precision.\n",
        "- Also the precision for good wine (1) prediction is almost 96%.\n",
        "- But the precision is almost 0% for the bad type of wine (0) with sklearn's linear regression model. Which is not a good sign for the analysis."
      ],
      "metadata": {
        "_uuid": "6ad1b7d35ac98b173c0e3232db65ba794596c7da",
        "id": "IEqUZeYrF8la"
      }
    },
    {
      "cell_type": "markdown",
      "source": [
        "#### Classification using Sklearn's RandomForestClassifier:"
      ],
      "metadata": {
        "_uuid": "6dd15d320214778a4489990a08070700ccdc28d5",
        "id": "m-GmZGxhF8la"
      }
    },
    {
      "cell_type": "code",
      "source": [
        "y, X = dmatrices('rate_code ~ alcohol', data = wine)\n",
        "model = sklearn.ensemble.RandomForestClassifier()\n",
        "model.fit(X, y)\n",
        "yhat = model.predict(X)\n",
        "print(sklearn.metrics.classification_report(y, yhat))"
      ],
      "metadata": {
        "_uuid": "460068f7e32d07141ba485d4a5db87c58bc60cbb",
        "execution": {
          "iopub.status.busy": "2024-07-04T08:09:19.90856Z",
          "iopub.execute_input": "2024-07-04T08:09:19.908873Z",
          "iopub.status.idle": "2024-07-04T08:09:19.943973Z",
          "shell.execute_reply.started": "2024-07-04T08:09:19.908787Z",
          "shell.execute_reply": "2024-07-04T08:09:19.942853Z"
        },
        "trusted": true,
        "id": "41a0_iV8F8la"
      },
      "execution_count": null,
      "outputs": []
    },
    {
      "cell_type": "code",
      "source": [],
      "metadata": {
        "_uuid": "8312bbff573a435d5b35d4fdb2af73b402287fcb",
        "collapsed": true,
        "jupyter": {
          "outputs_hidden": true
        },
        "trusted": true,
        "id": "h37Igic3F8la"
      },
      "execution_count": null,
      "outputs": []
    }
  ]
}